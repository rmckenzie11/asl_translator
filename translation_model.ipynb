{
  "cells": [
    {
      "cell_type": "code",
      "execution_count": null,
      "metadata": {
        "colab": {
          "base_uri": "https://localhost:8080/"
        },
        "id": "tPjNsSN0TT7b",
        "outputId": "4771a142-a24e-4dd0-a1fa-a165f3daf805"
      },
      "outputs": [
        {
          "name": "stdout",
          "output_type": "stream",
          "text": [
            "2515\n"
          ]
        }
      ],
      "source": [
        "\n",
        "from sklearn.model_selection import train_test_split\n",
        "import numpy as np\n",
        "from skimage.io import imread_collection\n",
        "from skimage.transform import resize\n",
        "from skimage import filters\n",
        "\n",
        "\n",
        "col_dir = '/content/sample_data/asl_dataset/asl_dataset/*.jpeg'\n",
        "x = imread_collection(col_dir)\n",
        "print(len(x))\n",
        "\n",
        "finalx = []\n",
        "\n",
        "for i in x:\n",
        "    newimg = resize(i, (100, 100, 1), anti_aliasing=True)\n",
        "    newimg = filters.sobel(newimg)\n",
        "    finalx.append(newimg.flatten())"
      ]
    },
    {
      "cell_type": "code",
      "execution_count": null,
      "metadata": {
        "colab": {
          "base_uri": "https://localhost:8080/"
        },
        "id": "VkH4Y23oU8mR",
        "outputId": "fa8585cc-e10a-4ec7-dc34-760adbfc46d2"
      },
      "outputs": [
        {
          "name": "stdout",
          "output_type": "stream",
          "text": [
            "2516\n"
          ]
        }
      ],
      "source": [
        "import os\n",
        "\n",
        "path = '/content/sample_data/asl_dataset/asl_dataset'\n",
        "\n",
        "files = sorted(os.listdir(path))\n",
        "print(len(files))\n",
        "files = files[1:]\n",
        "y = []\n",
        "\n",
        "for i in files:\n",
        "    y.append(i[6])\n",
        "    "
      ]
    },
    {
      "cell_type": "code",
      "execution_count": null,
      "metadata": {
        "colab": {
          "base_uri": "https://localhost:8080/"
        },
        "id": "S8OGyn5mVOOP",
        "outputId": "fd47d55b-8ca5-4349-e19f-6336563766f4"
      },
      "outputs": [
        {
          "data": {
            "text/plain": [
              "SVC()"
            ]
          },
          "execution_count": 23,
          "metadata": {},
          "output_type": "execute_result"
        }
      ],
      "source": [
        "from sklearn import svm\n",
        "\n",
        "X_train, X_test, y_train, y_test = train_test_split(finalx, y, test_size=0.2, random_state=1)\n",
        "clf = svm.SVC()\n",
        "clf.fit(X_train, y_train)\n"
      ]
    },
    {
      "cell_type": "code",
      "execution_count": null,
      "metadata": {
        "id": "e07fB_zkXkoX"
      },
      "outputs": [],
      "source": [
        "predicted = clf.predict(X_test)"
      ]
    },
    {
      "cell_type": "code",
      "execution_count": null,
      "metadata": {
        "colab": {
          "base_uri": "https://localhost:8080/"
        },
        "id": "arorJmk_X-gO",
        "outputId": "728a3a64-a27a-4352-aea5-e3a40a42e1ac"
      },
      "outputs": [
        {
          "name": "stdout",
          "output_type": "stream",
          "text": [
            "Classification report for classifier SVC():\n",
            "              precision    recall  f1-score   support\n",
            "\n",
            "           0       0.91      0.83      0.87        12\n",
            "           1       0.71      1.00      0.83         5\n",
            "           2       1.00      1.00      1.00        13\n",
            "           3       1.00      1.00      1.00        14\n",
            "           4       1.00      0.94      0.97        16\n",
            "           5       1.00      1.00      1.00        14\n",
            "           6       0.57      0.67      0.62         6\n",
            "           7       1.00      1.00      1.00        11\n",
            "           8       1.00      1.00      1.00        16\n",
            "           9       1.00      1.00      1.00        14\n",
            "           a       0.88      0.78      0.82         9\n",
            "           b       1.00      0.82      0.90        22\n",
            "           c       1.00      1.00      1.00        10\n",
            "           d       1.00      1.00      1.00        14\n",
            "           e       1.00      1.00      1.00        11\n",
            "           f       0.75      0.90      0.82        10\n",
            "           g       0.92      0.92      0.92        13\n",
            "           h       1.00      0.96      0.98        24\n",
            "           i       1.00      1.00      1.00        12\n",
            "           j       0.95      1.00      0.97        19\n",
            "           k       1.00      1.00      1.00        14\n",
            "           l       1.00      1.00      1.00        22\n",
            "           m       1.00      0.87      0.93        23\n",
            "           n       0.73      1.00      0.85        11\n",
            "           o       0.90      0.95      0.92        19\n",
            "           p       1.00      1.00      1.00        13\n",
            "           q       1.00      1.00      1.00        15\n",
            "           r       1.00      1.00      1.00        14\n",
            "           s       0.90      0.90      0.90        10\n",
            "           t       1.00      1.00      1.00         8\n",
            "           u       0.91      1.00      0.95        20\n",
            "           v       1.00      0.85      0.92        13\n",
            "           w       0.87      0.93      0.90        14\n",
            "           x       1.00      1.00      1.00        13\n",
            "           y       1.00      1.00      1.00         8\n",
            "           z       0.95      0.90      0.93        21\n",
            "\n",
            "    accuracy                           0.95       503\n",
            "   macro avg       0.94      0.95      0.94       503\n",
            "weighted avg       0.96      0.95      0.95       503\n",
            "\n",
            "\n"
          ]
        }
      ],
      "source": [
        "from sklearn import metrics\n",
        "print(\n",
        "    f\"Classification report for classifier {clf}:\\n\"\n",
        "    f\"{metrics.classification_report(y_test, predicted)}\\n\"\n",
        ")"
      ]
    },
    {
      "cell_type": "code",
      "execution_count": null,
      "metadata": {
        "id": "LfO4C0NhZvFA"
      },
      "outputs": [],
      "source": [
        "import pickle\n",
        "\n",
        "filename = 'finalized_model.sav'\n",
        "pickle.dump(clf, open(filename, 'wb'))\n"
      ]
    }
  ],
  "metadata": {
    "colab": {
      "collapsed_sections": [],
      "name": "final.ipynb",
      "provenance": []
    },
    "kernelspec": {
      "display_name": "Python 3",
      "name": "python3"
    },
    "language_info": {
      "name": "python",
      "version": "3.8.10"
    }
  },
  "nbformat": 4,
  "nbformat_minor": 0
}
